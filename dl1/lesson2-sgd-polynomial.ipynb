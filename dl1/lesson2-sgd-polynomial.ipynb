{
 "cells": [
  {
   "cell_type": "markdown",
   "metadata": {},
   "source": [
    "# Table of Contents\n",
    " <p><div class=\"lev1 toc-item\"><a href=\"#Linear-Regression-problem\" data-toc-modified-id=\"Linear-Regression-problem-1\"><span class=\"toc-item-num\">1&nbsp;&nbsp;</span>Linear Regression problem</a></div><div class=\"lev1 toc-item\"><a href=\"#Gradient-Descent\" data-toc-modified-id=\"Gradient-Descent-2\"><span class=\"toc-item-num\">2&nbsp;&nbsp;</span>Gradient Descent</a></div><div class=\"lev1 toc-item\"><a href=\"#Gradient-Descent---Classification\" data-toc-modified-id=\"Gradient-Descent---Classification-3\"><span class=\"toc-item-num\">3&nbsp;&nbsp;</span>Gradient Descent - Classification</a></div><div class=\"lev1 toc-item\"><a href=\"#Gradient-descent-with-numpy\" data-toc-modified-id=\"Gradient-descent-with-numpy-4\"><span class=\"toc-item-num\">4&nbsp;&nbsp;</span>Gradient descent with numpy</a></div>"
   ]
  },
  {
   "cell_type": "code",
   "execution_count": 1,
   "metadata": {},
   "outputs": [],
   "source": [
    "%matplotlib inline\n",
    "from fastai import *"
   ]
  },
  {
   "cell_type": "markdown",
   "metadata": {},
   "source": [
    "In this part of the lecture we explain Stochastic Gradient Descent (SGD) which is an **optimization** method commonly used in neural networks. We will illustrate the concepts with concrete examples."
   ]
  },
  {
   "cell_type": "code",
   "execution_count": 2,
   "metadata": {},
   "outputs": [],
   "source": [
    "#Init ramdomness...\n",
    "np.random.seed(2)"
   ]
  },
  {
   "cell_type": "markdown",
   "metadata": {},
   "source": [
    "#  Linear Regression problem"
   ]
  },
  {
   "cell_type": "markdown",
   "metadata": {},
   "source": [
    "The goal of linear regression is to fit a line to a set of points."
   ]
  },
  {
   "cell_type": "code",
   "execution_count": 3,
   "metadata": {},
   "outputs": [],
   "source": [
    "n=200"
   ]
  },
  {
   "cell_type": "code",
   "execution_count": 4,
   "metadata": {},
   "outputs": [],
   "source": [
    "# Expected parameters values\n",
    "to_find = tensor(3.,2.);"
   ]
  },
  {
   "cell_type": "code",
   "execution_count": 5,
   "metadata": {},
   "outputs": [
    {
     "data": {
      "text/plain": [
       "tensor([[0.3655, 1.0000],\n",
       "        [0.5784, 1.0000],\n",
       "        [0.4522, 1.0000],\n",
       "        [0.2590, 1.0000],\n",
       "        [0.3005, 1.0000]])"
      ]
     },
     "execution_count": 5,
     "metadata": {},
     "output_type": "execute_result"
    }
   ],
   "source": [
    "x = torch.ones(n,2) \n",
    "x[:,0].uniform_()\n",
    "x[:5]"
   ]
  },
  {
   "cell_type": "markdown",
   "metadata": {},
   "source": [
    "**IMPORTANT**: the sample values of tensor 'y' should be CONSTANT and do not have gradient! \n",
    "In othe words, we cannot have any term of type \"torch.Parameter\" in the expression of 'y' and 'x'. \n",
    "\n",
    "Otherwise we're going to have errors like this in the train loop:\n",
    "\n",
    "```python\n",
    "a = nn.Parameter(tensor(2.,2.))\n",
    "y = x@a + torch.ones(n).uniform_(-1, 1)\n",
    "print('Loss = ', str(update(a, x, y, mse, lr)))\n",
    "print('Loss = ', str(update(a, x, y, mse, lr)))\n",
    "\n",
    "... gives you ...\n",
    "\n",
    "RuntimeError: Trying to backward through the graph a second time, but the buffers have already been freed. Specify retain_graph=True when calling backward the first time.\n",
    "```"
   ]
  },
  {
   "cell_type": "code",
   "execution_count": 6,
   "metadata": {},
   "outputs": [],
   "source": [
    "y = x@to_find + torch.ones(n).uniform_(-1, 1)"
   ]
  },
  {
   "cell_type": "code",
   "execution_count": 7,
   "metadata": {},
   "outputs": [
    {
     "data": {
      "text/plain": [
       "torch.Size([200])"
      ]
     },
     "execution_count": 7,
     "metadata": {},
     "output_type": "execute_result"
    }
   ],
   "source": [
    "y.shape"
   ]
  },
  {
   "cell_type": "code",
   "execution_count": 8,
   "metadata": {},
   "outputs": [
    {
     "data": {
      "image/png": "[encoded data removed]",
      "text/plain": [
       "<Figure size 432x288 with 1 Axes>"
      ]
     },
     "metadata": {
      "needs_background": "light"
     },
     "output_type": "display_data"
    }
   ],
   "source": [
    "plt.scatter(x[:,0], y);"
   ]
  },
  {
   "cell_type": "markdown",
   "metadata": {},
   "source": [
    "You want to find **parameters** (weights) `a` such that you minimize the *error* between the points and the line `x@a`. Note that here `a` is unknown. For a regression problem the most common *error function* or *loss function* is the **mean squared error**. "
   ]
  },
  {
   "cell_type": "code",
   "execution_count": 9,
   "metadata": {},
   "outputs": [],
   "source": [
    "def mse(y_hat, y): return ((y_hat-y)**2).mean()"
   ]
  },
  {
   "cell_type": "markdown",
   "metadata": {},
   "source": [
    "Suppose we believe `a = (1.0,1.0)` then we can compute `y_hat` which is our *prediction* and then compute our error."
   ]
  },
  {
   "cell_type": "code",
   "execution_count": 10,
   "metadata": {},
   "outputs": [],
   "source": [
    "a = tensor(-1.,1)"
   ]
  },
  {
   "cell_type": "code",
   "execution_count": 11,
   "metadata": {},
   "outputs": [
    {
     "data": {
      "text/plain": [
       "tensor(10.3697)"
      ]
     },
     "execution_count": 11,
     "metadata": {},
     "output_type": "execute_result"
    }
   ],
   "source": [
    "y_hat = x@a\n",
    "mse(y_hat, y)"
   ]
  },
  {
   "cell_type": "code",
   "execution_count": 12,
   "metadata": {},
   "outputs": [
    {
     "data": {
      "image/png": "[encoded data removed]",
      "text/plain": [
       "<Figure size 432x288 with 1 Axes>"
      ]
     },
     "metadata": {
      "needs_background": "light"
     },
     "output_type": "display_data"
    }
   ],
   "source": [
    "plt.scatter(x[:,0],y)\n",
    "plt.scatter(x[:,0],y_hat);"
   ]
  },
  {
   "cell_type": "markdown",
   "metadata": {},
   "source": [
    "So far we have specified the *model* (linear regression) and the *evaluation criteria* (or *loss function*). Now we need to handle *optimization*; that is, how do we find the best values for `a`? How do we find the best *fitting* linear regression."
   ]
  },
  {
   "cell_type": "markdown",
   "metadata": {},
   "source": [
    "# Gradient Descent"
   ]
  },
  {
   "cell_type": "markdown",
   "metadata": {},
   "source": [
    "We would like to find the values of `a` that minimize `mse_loss`.\n",
    "\n",
    "**Gradient descent** is an algorithm that minimizes functions. Given a function defined by a set of parameters, gradient descent starts with an initial set of parameter values and iteratively moves toward a set of parameter values that minimize the function. This iterative minimization is achieved by taking steps in the negative direction of the function gradient.\n",
    "\n",
    "Here is gradient descent implemented in [PyTorch](http://pytorch.org/)."
   ]
  },
  {
   "cell_type": "code",
   "execution_count": 13,
   "metadata": {},
   "outputs": [
    {
     "data": {
      "text/plain": [
       "Parameter containing:\n",
       "tensor([-1.,  1.], requires_grad=True)"
      ]
     },
     "execution_count": 13,
     "metadata": {},
     "output_type": "execute_result"
    }
   ],
   "source": [
    "a = nn.Parameter(a); a"
   ]
  },
  {
   "cell_type": "code",
   "execution_count": 14,
   "metadata": {},
   "outputs": [],
   "source": [
    "lr = 3e-1"
   ]
  },
  {
   "cell_type": "code",
   "execution_count": 15,
   "metadata": {},
   "outputs": [],
   "source": [
    "def update(params: nn.Parameter, x:Tensor, y:Tensor, error_function, lr: float):\n",
    "    y_hat = x@params\n",
    "    loss = error_function(y, y_hat)\n",
    "    loss.backward()\n",
    "    with torch.no_grad():\n",
    "        # Edit in place to accomodate the case when params is BIG\n",
    "        params.sub_(lr * params.grad)\n",
    "        params.grad.zero_()\n",
    "    return (loss, params)"
   ]
  },
  {
   "cell_type": "code",
   "execution_count": 16,
   "metadata": {},
   "outputs": [
    {
     "name": "stdout",
     "output_type": "stream",
     "text": [
      "Loss =  (tensor(10.3697, grad_fn=<MeanBackward1>), Parameter containing:\n",
      "tensor([0.0618, 2.7870], requires_grad=True))\n",
      "Loss =  (tensor(1.3929, grad_fn=<MeanBackward1>), Parameter containing:\n",
      "tensor([0.3919, 3.1870], requires_grad=True))\n",
      "Loss =  (tensor(0.8213, grad_fn=<MeanBackward1>), Parameter containing:\n",
      "tensor([0.5406, 3.2492], requires_grad=True))\n",
      "Loss =  (tensor(0.7547, grad_fn=<MeanBackward1>), Parameter containing:\n",
      "tensor([0.6426, 3.2300], requires_grad=True))\n",
      "Loss =  (tensor(0.7205, grad_fn=<MeanBackward1>), Parameter containing:\n",
      "tensor([0.7309, 3.1921], requires_grad=True))\n"
     ]
    }
   ],
   "source": [
    "#Test\n",
    "print('Loss = ', str(update(a, x, y, mse, lr)))\n",
    "print('Loss = ', str(update(a, x, y, mse, lr)))\n",
    "print('Loss = ', str(update(a, x, y, mse, lr)))\n",
    "print('Loss = ', str(update(a, x, y, mse, lr)))\n",
    "print('Loss = ', str(update(a, x, y, mse, lr)))"
   ]
  },
  {
   "cell_type": "code",
   "execution_count": 17,
   "metadata": {},
   "outputs": [
    {
     "name": "stdout",
     "output_type": "stream",
     "text": [
      "tensor(0.6904, grad_fn=<MeanBackward1>) Parameter containing:\n",
      "tensor([0.8687, 3.1232], requires_grad=True)\n",
      "tensor(0.4052, grad_fn=<MeanBackward1>) Parameter containing:\n",
      "tensor([1.8648, 2.6001], requires_grad=True)\n",
      "tensor(0.3189, grad_fn=<MeanBackward1>) Parameter containing:\n",
      "tensor([2.4127, 2.3127], requires_grad=True)\n",
      "tensor(0.2929, grad_fn=<MeanBackward1>) Parameter containing:\n",
      "tensor([2.7139, 2.1547], requires_grad=True)\n",
      "tensor(0.2850, grad_fn=<MeanBackward1>) Parameter containing:\n",
      "tensor([2.8796, 2.0679], requires_grad=True)\n",
      "tensor(0.2826, grad_fn=<MeanBackward1>) Parameter containing:\n",
      "tensor([2.9706, 2.0201], requires_grad=True)\n",
      "tensor(0.2819, grad_fn=<MeanBackward1>) Parameter containing:\n",
      "tensor([3.0207, 1.9939], requires_grad=True)\n",
      "tensor(0.2817, grad_fn=<MeanBackward1>) Parameter containing:\n",
      "tensor([3.0482, 1.9794], requires_grad=True)\n",
      "tensor(0.2816, grad_fn=<MeanBackward1>) Parameter containing:\n",
      "tensor([3.0634, 1.9715], requires_grad=True)\n",
      "tensor(0.2816, grad_fn=<MeanBackward1>) Parameter containing:\n",
      "tensor([3.0717, 1.9671], requires_grad=True)\n",
      "Parameter containing:\n",
      "tensor([3.0759, 1.9649], requires_grad=True)\n"
     ]
    }
   ],
   "source": [
    "lr = 5e-1\n",
    "for t in range(100): \n",
    "    loss, params=update(a, x, y, mse, lr)\n",
    "    if(0==(t % 10)):  print(str(loss),str(params))\n",
    "print(a)"
   ]
  },
  {
   "cell_type": "code",
   "execution_count": 18,
   "metadata": {},
   "outputs": [
    {
     "data": {
      "image/png": "[encoded data removed]",
      "text/plain": [
       "<Figure size 432x288 with 1 Axes>"
      ]
     },
     "metadata": {
      "needs_background": "light"
     },
     "output_type": "display_data"
    }
   ],
   "source": [
    "plt.scatter(x[:,0],y)\n",
    "plt.scatter(x[:,0],x@a);"
   ]
  },
  {
   "cell_type": "markdown",
   "metadata": {},
   "source": [
    "## Animate it!"
   ]
  },
  {
   "cell_type": "code",
   "execution_count": 19,
   "metadata": {},
   "outputs": [],
   "source": [
    "from matplotlib import animation, rc\n",
    "rc('animation', html='html5')"
   ]
  },
  {
   "cell_type": "code",
   "execution_count": null,
   "metadata": {},
   "outputs": [],
   "source": [
    "a = nn.Parameter(tensor(-1.,1))\n",
    "n_iter = 200\n",
    "\n",
    "fig = plt.figure()\n",
    "plt.scatter(x[:,0], y, c='orange')\n",
    "line, = plt.plot(x[:,0], x@a)\n",
    "plt.close()\n",
    "\n",
    "def animate(i):\n",
    "    update(a,x,y,mse,lr)\n",
    "    line.set_ydata(x@a)\n",
    "    return line,\n",
    "\n",
    "animation.FuncAnimation(fig, animate, np.arange(0, 200), interval=20)"
   ]
  },
  {
   "cell_type": "code",
   "execution_count": 21,
   "metadata": {},
   "outputs": [
    {
     "name": "stdout",
     "output_type": "stream",
     "text": [
      "Predicted =  Parameter containing:\n",
      "tensor([3.0818, 1.9618], requires_grad=True)\n",
      "Expected =  tensor([3., 2.])\n"
     ]
    }
   ],
   "source": [
    "print('Predicted = ', str(a))\n",
    "print('Expected = ', str(to_find))"
   ]
  },
  {
   "cell_type": "markdown",
   "metadata": {},
   "source": [
    "# Try to predict a quadratic function\n",
    "\n",
    "y = x^2*a + x*b + c"
   ]
  },
  {
   "cell_type": "code",
   "execution_count": 22,
   "metadata": {},
   "outputs": [],
   "source": [
    "# Expected parameters values\n",
    "to_find = tensor(.2, .1, -1);"
   ]
  },
  {
   "cell_type": "code",
   "execution_count": 23,
   "metadata": {},
   "outputs": [
    {
     "data": {
      "text/plain": [
       "tensor([[ 2.7829, -1.6682,  1.0000],\n",
       "        [ 3.2078,  1.7910,  1.0000],\n",
       "        [ 0.0273,  0.1652,  1.0000],\n",
       "        [ 0.5322,  0.7295,  1.0000],\n",
       "        [ 0.2088, -0.4569,  1.0000]])"
      ]
     },
     "execution_count": 23,
     "metadata": {},
     "output_type": "execute_result"
    }
   ],
   "source": [
    "x = torch.ones(n,3) \n",
    "x[:,1].uniform_(-2,2) # x^1\n",
    "x[:,0] = x[:,1]**2 # x^2\n",
    "x[:5]"
   ]
  },
  {
   "cell_type": "code",
   "execution_count": 24,
   "metadata": {},
   "outputs": [],
   "source": [
    "y = x@to_find + torch.ones(n).uniform_(-1, 1)*.2\n",
    "# VERY IMPORTANT: y is a constant tensor so it sholuldn't be attached to gradient\n",
    "y.detach().requires_grad = False"
   ]
  },
  {
   "cell_type": "code",
   "execution_count": 25,
   "metadata": {},
   "outputs": [
    {
     "data": {
      "image/png": "[encoded data removed]",
      "text/plain": [
       "<Figure size 432x288 with 1 Axes>"
      ]
     },
     "metadata": {
      "needs_background": "light"
     },
     "output_type": "display_data"
    }
   ],
   "source": [
    "xxx = plt.scatter(x[:,1], y);"
   ]
  },
  {
   "cell_type": "code",
   "execution_count": 26,
   "metadata": {},
   "outputs": [],
   "source": [
    "lr = 1e-2"
   ]
  },
  {
   "cell_type": "code",
   "execution_count": 27,
   "metadata": {},
   "outputs": [
    {
     "name": "stdout",
     "output_type": "stream",
     "text": [
      "Loss =  (tensor(1.4162, grad_fn=<MeanBackward1>), Parameter containing:\n",
      "tensor([0.0699, 0.1953, 0.2766], requires_grad=True))\n",
      "Loss =  (tensor(1.2743, grad_fn=<MeanBackward1>), Parameter containing:\n",
      "tensor([0.0425, 0.1908, 0.2546], requires_grad=True))\n",
      "Loss =  (tensor(1.1532, grad_fn=<MeanBackward1>), Parameter containing:\n",
      "tensor([0.0175, 0.1865, 0.2337], requires_grad=True))\n"
     ]
    }
   ],
   "source": [
    "a =  nn.Parameter(tensor(.1,.2,.3)) # Starting point\n",
    "print('Loss = ', str(update(a, x, y, mse, lr)))\n",
    "print('Loss = ', str(update(a, x, y, mse, lr)))\n",
    "print('Loss = ', str(update(a, x, y, mse, lr)))"
   ]
  },
  {
   "cell_type": "code",
   "execution_count": null,
   "metadata": {},
   "outputs": [],
   "source": [
    "a = nn.Parameter(tensor(-.2,.3, -.1))\n",
    "lr = 5e-2\n",
    "n_iter = 600\n",
    "\n",
    "fig = plt.figure()\n",
    "plt.scatter(x[:,1], y, c='orange')\n",
    "scat = plt.scatter(x[:,1], x@a)\n",
    "plt.close()\n",
    "\n",
    "def animate(i):\n",
    "    update(a,x,y,mse,lr)\n",
    "    new_values = tensor((x[:,1]).numpy(),tensor((x@a)).detach().numpy()).numpy().T # Converts tu [N,2]\n",
    "    scat.set_offsets(new_values)\n",
    "    return line,\n",
    "\n",
    "animation.FuncAnimation(fig, animate, np.arange(0, 200), interval=20)"
   ]
  },
  {
   "cell_type": "code",
   "execution_count": 29,
   "metadata": {},
   "outputs": [
    {
     "data": {
      "image/png": "[encoded data removed]",
      "text/plain": [
       "<Figure size 432x288 with 1 Axes>"
      ]
     },
     "metadata": {
      "needs_background": "light"
     },
     "output_type": "display_data"
    }
   ],
   "source": [
    "#Final prediction\n",
    "plt.scatter(x[:,1],y)\n",
    "plt.scatter(x[:,1],x@a);"
   ]
  },
  {
   "cell_type": "code",
   "execution_count": 30,
   "metadata": {},
   "outputs": [
    {
     "name": "stdout",
     "output_type": "stream",
     "text": [
      "Predicted =  Parameter containing:\n",
      "tensor([ 0.2101,  0.0851, -1.0186], requires_grad=True)\n",
      "Expected =  tensor([ 0.2000,  0.1000, -1.0000])\n"
     ]
    }
   ],
   "source": [
    "print('Predicted = ', str(a))\n",
    "print('Expected = ', str(to_find))"
   ]
  },
  {
   "cell_type": "markdown",
   "metadata": {},
   "source": [
    "# Try to predict a polynomial function\n",
    "\n",
    "y = an*x^n + ... + a1*x + a0"
   ]
  },
  {
   "cell_type": "code",
   "execution_count": 31,
   "metadata": {},
   "outputs": [],
   "source": [
    "n = 300 \n",
    "n_iter = 800 "
   ]
  },
  {
   "cell_type": "code",
   "execution_count": 32,
   "metadata": {},
   "outputs": [],
   "source": [
    "# Expected parameters values\n",
    "to_find = tensor(-.24, .1, -.2, .3, .2);\n",
    "poly_size = len(to_find) # It's (polynomial degree + 1)"
   ]
  },
  {
   "cell_type": "markdown",
   "metadata": {},
   "source": [
    "Make function parametric on 't'"
   ]
  },
  {
   "cell_type": "code",
   "execution_count": 33,
   "metadata": {},
   "outputs": [],
   "source": [
    "t = torch.ones(n,1).uniform_(-2,2)"
   ]
  },
  {
   "cell_type": "code",
   "execution_count": 34,
   "metadata": {},
   "outputs": [
    {
     "data": {
      "text/plain": [
       "tensor([[ 1.0000e+00, -1.8808e+00,  3.5374e+00, -6.6533e+00,  1.2514e+01],\n",
       "        [ 1.0000e+00,  4.9075e-01,  2.4084e-01,  1.1819e-01,  5.8003e-02],\n",
       "        [ 1.0000e+00, -1.0092e+00,  1.0185e+00, -1.0278e+00,  1.0373e+00],\n",
       "        [ 1.0000e+00,  1.1752e+00,  1.3811e+00,  1.6231e+00,  1.9074e+00],\n",
       "        [ 1.0000e+00, -3.3414e-01,  1.1165e-01, -3.7307e-02,  1.2466e-02]])"
      ]
     },
     "execution_count": 34,
     "metadata": {},
     "output_type": "execute_result"
    }
   ],
   "source": [
    "x = torch.ones(n,poly_size)\n",
    "for i in range(1,poly_size):\n",
    "    x[:,i] = t[:,0]**i # oakward syntax...\n",
    "x[:5]"
   ]
  },
  {
   "cell_type": "code",
   "execution_count": 35,
   "metadata": {},
   "outputs": [],
   "source": [
    "noise_scale = .25\n",
    "y = x@to_find + torch.ones(n).uniform_(-1, 1)*noise_scale\n",
    "# VERY IMPORTANT: y is a constant tensor so it sholuldn't be attached to gradient\n",
    "y.detach().requires_grad = False"
   ]
  },
  {
   "cell_type": "code",
   "execution_count": 36,
   "metadata": {},
   "outputs": [
    {
     "data": {
      "image/png": "[encoded data removed]",
      "text/plain": [
       "<Figure size 432x288 with 1 Axes>"
      ]
     },
     "metadata": {
      "needs_background": "light"
     },
     "output_type": "display_data"
    }
   ],
   "source": [
    "plt.scatter(x[:,1], y);"
   ]
  },
  {
   "cell_type": "code",
   "execution_count": 37,
   "metadata": {},
   "outputs": [],
   "source": [
    "lr = 1e-2"
   ]
  },
  {
   "cell_type": "code",
   "execution_count": 38,
   "metadata": {},
   "outputs": [
    {
     "name": "stdout",
     "output_type": "stream",
     "text": [
      "Loss =  (tensor(9.2478, grad_fn=<MeanBackward1>), Parameter containing:\n",
      "tensor([0.6568, 0.9185, 0.0697, 0.3573, 0.1901], requires_grad=True))\n",
      "Loss =  (tensor(2.8632, grad_fn=<MeanBackward1>), Parameter containing:\n",
      "tensor([0.6316, 0.8928, 0.0302, 0.2951, 0.0880], requires_grad=True))\n",
      "Loss =  (tensor(1.5829, grad_fn=<MeanBackward1>), Parameter containing:\n",
      "tensor([0.6143, 0.8722, 0.0118, 0.2477, 0.0506], requires_grad=True))\n"
     ]
    }
   ],
   "source": [
    "a =  nn.Parameter(tensor(torch.rand(poly_size))) # Starting point\n",
    "print('Loss = ', str(update(a, x, y, mse, lr)))\n",
    "print('Loss = ', str(update(a, x, y, mse, lr)))\n",
    "print('Loss = ', str(update(a, x, y, mse, lr)))"
   ]
  },
  {
   "cell_type": "code",
   "execution_count": null,
   "metadata": {},
   "outputs": [],
   "source": [
    "a = nn.Parameter(tensor(torch.rand(poly_size)/10.)) # Initialize with small values\n",
    "lr = 1e-2\n",
    "\n",
    "fig = plt.figure()\n",
    "plt.scatter(x[:,1], y, c='orange')\n",
    "scat = plt.scatter(x[:,1], x@a)\n",
    "plt.close()\n",
    "\n",
    "def animate(i):\n",
    "    update(a,x,y,mse,lr)\n",
    "    new_values = tensor((x[:,1]).numpy(),tensor((x@a)).detach().numpy()).numpy().T # Converts tu [N,2]\n",
    "    scat.set_offsets(new_values)\n",
    "    return line,\n",
    "\n",
    "animation.FuncAnimation(fig, animate, np.arange(0, 200), interval=20)"
   ]
  },
  {
   "cell_type": "code",
   "execution_count": 40,
   "metadata": {},
   "outputs": [
    {
     "data": {
      "image/png": "[encoded data removed]",
      "text/plain": [
       "<Figure size 432x288 with 1 Axes>"
      ]
     },
     "metadata": {
      "needs_background": "light"
     },
     "output_type": "display_data"
    }
   ],
   "source": [
    "#Final prediction\n",
    "plt.scatter(x[:,1],y)\n",
    "plt.scatter(x[:,1],x@a);"
   ]
  },
  {
   "cell_type": "code",
   "execution_count": 41,
   "metadata": {},
   "outputs": [
    {
     "name": "stdout",
     "output_type": "stream",
     "text": [
      "Predicted =  Parameter containing:\n",
      "tensor([-0.2714,  0.0920, -0.1097,  0.3055,  0.1737], requires_grad=True)\n",
      "Expected =  tensor([-0.2400,  0.1000, -0.2000,  0.3000,  0.2000])\n"
     ]
    }
   ],
   "source": [
    "print('Predicted = ', str(a))\n",
    "print('Expected = ', str(to_find))"
   ]
  },
  {
   "cell_type": "markdown",
   "metadata": {},
   "source": [
    "**IMPORTANT:** noise_scale influence the result."
   ]
  }
 ],
 "metadata": {
  "kernelspec": {
   "display_name": "Python 3",
   "language": "python",
   "name": "python3"
  },
  "language_info": {
   "codemirror_mode": {
    "name": "ipython",
    "version": 3
   },
   "file_extension": ".py",
   "mimetype": "text/x-python",
   "name": "python",
   "nbconvert_exporter": "python",
   "pygments_lexer": "ipython3",
   "version": "3.7.0"
  },
  "varInspector": {
   "cols": {
    "lenName": 16,
    "lenType": 16,
    "lenVar": 40
   },
   "kernels_config": {
    "python": {
     "delete_cmd_postfix": "",
     "delete_cmd_prefix": "del ",
     "library": "var_list.py",
     "varRefreshCmd": "print(var_dic_list())"
    },
    "r": {
     "delete_cmd_postfix": ") ",
     "delete_cmd_prefix": "rm(",
     "library": "var_list.r",
     "varRefreshCmd": "cat(var_dic_list()) "
    }
   },
   "types_to_exclude": [
    "module",
    "function",
    "builtin_function_or_method",
    "instance",
    "_Feature"
   ],
   "window_display": false
  }
 },
 "nbformat": 4,
 "nbformat_minor": 1
}
